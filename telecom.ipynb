{
 "cells": [
  {
   "cell_type": "markdown",
   "id": "7efd379d",
   "metadata": {},
   "source": [
    "# Telecomunicaciones: identificar operadores ineficaces\n",
    "\n",
    "El servicio de telefonía virtual CallMeMaybe está desarrollando una nueva función que brindará a los supervisores y las supervisores información sobre los operadores menos eficaces. \n",
    "\n",
    "Se considera que un operador es ineficaz si tiene una gran cantidad de llamadas entrantes perdidas (internas y externas) y un tiempo de espera prolongado para las llamadas entrantes. Además, si se supone que un operador debe realizar llamadas salientes, un número reducido de ellas también será un signo de ineficacia.\n",
    "\n",
    "- Lleva a cabo el análisis exploratorio de datos\n",
    "- Identificar operadores ineficaces\n",
    "- Prueba las hipótesis estadísticas"
   ]
  },
  {
   "cell_type": "markdown",
   "id": "8d39ec9a",
   "metadata": {},
   "source": [
    "https://drive.google.com/drive/folders/1usOUc5lV098-gZJeOBBeTOZXiQBEyM4V?usp=sharing"
   ]
  },
  {
   "cell_type": "code",
   "execution_count": 1,
   "id": "10709c70",
   "metadata": {},
   "outputs": [],
   "source": [
    "import pandas as pd\n",
    "import numpy as np\n",
    "import datetime as dt\n",
    "import matplotlib.pyplot as plt\n",
    "import scipy.stats as st\n",
    "import seaborn as sns"
   ]
  },
  {
   "cell_type": "markdown",
   "id": "e16824be",
   "metadata": {},
   "source": [
    "## Exploracion de datos"
   ]
  },
  {
   "cell_type": "code",
   "execution_count": 2,
   "id": "24f2710a",
   "metadata": {},
   "outputs": [
    {
     "name": "stdout",
     "output_type": "stream",
     "text": [
      "<class 'pandas.core.frame.DataFrame'>\n",
      "RangeIndex: 53902 entries, 0 to 53901\n",
      "Data columns (total 9 columns):\n",
      " #   Column               Non-Null Count  Dtype  \n",
      "---  ------               --------------  -----  \n",
      " 0   user_id              53902 non-null  int64  \n",
      " 1   date                 53902 non-null  object \n",
      " 2   direction            53902 non-null  object \n",
      " 3   internal             53785 non-null  object \n",
      " 4   operator_id          45730 non-null  float64\n",
      " 5   is_missed_call       53902 non-null  bool   \n",
      " 6   calls_count          53902 non-null  int64  \n",
      " 7   call_duration        53902 non-null  int64  \n",
      " 8   total_call_duration  53902 non-null  int64  \n",
      "dtypes: bool(1), float64(1), int64(4), object(3)\n",
      "memory usage: 3.3+ MB\n",
      "None\n",
      "   user_id                       date direction internal  operator_id  \\\n",
      "0   166377  2019-08-04 00:00:00+03:00        in    False          NaN   \n",
      "1   166377  2019-08-05 00:00:00+03:00       out     True     880022.0   \n",
      "2   166377  2019-08-05 00:00:00+03:00       out     True     880020.0   \n",
      "3   166377  2019-08-05 00:00:00+03:00       out     True     880020.0   \n",
      "4   166377  2019-08-05 00:00:00+03:00       out    False     880022.0   \n",
      "\n",
      "   is_missed_call  calls_count  call_duration  total_call_duration  \n",
      "0            True            2              0                    4  \n",
      "1            True            3              0                    5  \n",
      "2            True            1              0                    1  \n",
      "3           False            1             10                   18  \n",
      "4            True            3              0                   25  \n"
     ]
    }
   ],
   "source": [
    "dataset = pd.read_csv('telecom_dataset_us.csv')\n",
    "print(dataset.info())\n",
    "print(dataset.head())"
   ]
  },
  {
   "cell_type": "code",
   "execution_count": 3,
   "id": "444c67e0",
   "metadata": {},
   "outputs": [
    {
     "name": "stdout",
     "output_type": "stream",
     "text": [
      "<class 'pandas.core.frame.DataFrame'>\n",
      "RangeIndex: 732 entries, 0 to 731\n",
      "Data columns (total 3 columns):\n",
      " #   Column       Non-Null Count  Dtype \n",
      "---  ------       --------------  ----- \n",
      " 0   user_id      732 non-null    int64 \n",
      " 1   tariff_plan  732 non-null    object\n",
      " 2   date_start   732 non-null    object\n",
      "dtypes: int64(1), object(2)\n",
      "memory usage: 17.3+ KB\n",
      "None\n",
      "   user_id tariff_plan  date_start\n",
      "0   166713           A  2019-08-15\n",
      "1   166901           A  2019-08-23\n",
      "2   168527           A  2019-10-29\n",
      "3   167097           A  2019-09-01\n",
      "4   168193           A  2019-10-16\n"
     ]
    }
   ],
   "source": [
    "clients = pd.read_csv('telecom_clients_us.csv')\n",
    "print(clients.info())\n",
    "print(clients.head())"
   ]
  },
  {
   "cell_type": "markdown",
   "id": "51d30008",
   "metadata": {},
   "source": [
    "## tratamiento de los datos\n",
    "- Cambiar el tipo de las columna de fecha\n",
    "- Crear columna con el tiempo de espera de cada llamada\n",
    "- Crear una fila para el mes en que ucurrio la llamada\n",
    "- Crear columna la fecha de la primera llamada de cada operador\n",
    "- rellenar la columna internal. \n",
    "- Eliminar filas donde falta operator_id"
   ]
  },
  {
   "cell_type": "code",
   "execution_count": 4,
   "id": "b5b941e4",
   "metadata": {},
   "outputs": [],
   "source": [
    "#cambiamos el tipo de datos a para las columnas de fecha\n",
    "dataset['date'] = pd.to_datetime(dataset['date'])\n",
    "clients['date_start'] = pd.to_datetime(clients['date_start'])\n"
   ]
  },
  {
   "cell_type": "code",
   "execution_count": 5,
   "id": "f6095966",
   "metadata": {},
   "outputs": [
    {
     "data": {
      "text/html": [
       "<div>\n",
       "<style scoped>\n",
       "    .dataframe tbody tr th:only-of-type {\n",
       "        vertical-align: middle;\n",
       "    }\n",
       "\n",
       "    .dataframe tbody tr th {\n",
       "        vertical-align: top;\n",
       "    }\n",
       "\n",
       "    .dataframe thead th {\n",
       "        text-align: right;\n",
       "    }\n",
       "</style>\n",
       "<table border=\"1\" class=\"dataframe\">\n",
       "  <thead>\n",
       "    <tr style=\"text-align: right;\">\n",
       "      <th></th>\n",
       "      <th>user_id</th>\n",
       "      <th>date</th>\n",
       "      <th>direction</th>\n",
       "      <th>internal</th>\n",
       "      <th>operator_id</th>\n",
       "      <th>is_missed_call</th>\n",
       "      <th>calls_count</th>\n",
       "      <th>call_duration</th>\n",
       "      <th>total_call_duration</th>\n",
       "      <th>wait_time</th>\n",
       "      <th>month</th>\n",
       "    </tr>\n",
       "  </thead>\n",
       "  <tbody>\n",
       "    <tr>\n",
       "      <th>0</th>\n",
       "      <td>166377</td>\n",
       "      <td>2019-08-04 00:00:00+03:00</td>\n",
       "      <td>in</td>\n",
       "      <td>False</td>\n",
       "      <td>NaN</td>\n",
       "      <td>True</td>\n",
       "      <td>2</td>\n",
       "      <td>0</td>\n",
       "      <td>4</td>\n",
       "      <td>4</td>\n",
       "      <td>8</td>\n",
       "    </tr>\n",
       "    <tr>\n",
       "      <th>1</th>\n",
       "      <td>166377</td>\n",
       "      <td>2019-08-05 00:00:00+03:00</td>\n",
       "      <td>out</td>\n",
       "      <td>True</td>\n",
       "      <td>880022.0</td>\n",
       "      <td>True</td>\n",
       "      <td>3</td>\n",
       "      <td>0</td>\n",
       "      <td>5</td>\n",
       "      <td>5</td>\n",
       "      <td>8</td>\n",
       "    </tr>\n",
       "    <tr>\n",
       "      <th>2</th>\n",
       "      <td>166377</td>\n",
       "      <td>2019-08-05 00:00:00+03:00</td>\n",
       "      <td>out</td>\n",
       "      <td>True</td>\n",
       "      <td>880020.0</td>\n",
       "      <td>True</td>\n",
       "      <td>1</td>\n",
       "      <td>0</td>\n",
       "      <td>1</td>\n",
       "      <td>1</td>\n",
       "      <td>8</td>\n",
       "    </tr>\n",
       "    <tr>\n",
       "      <th>3</th>\n",
       "      <td>166377</td>\n",
       "      <td>2019-08-05 00:00:00+03:00</td>\n",
       "      <td>out</td>\n",
       "      <td>True</td>\n",
       "      <td>880020.0</td>\n",
       "      <td>False</td>\n",
       "      <td>1</td>\n",
       "      <td>10</td>\n",
       "      <td>18</td>\n",
       "      <td>8</td>\n",
       "      <td>8</td>\n",
       "    </tr>\n",
       "    <tr>\n",
       "      <th>4</th>\n",
       "      <td>166377</td>\n",
       "      <td>2019-08-05 00:00:00+03:00</td>\n",
       "      <td>out</td>\n",
       "      <td>False</td>\n",
       "      <td>880022.0</td>\n",
       "      <td>True</td>\n",
       "      <td>3</td>\n",
       "      <td>0</td>\n",
       "      <td>25</td>\n",
       "      <td>25</td>\n",
       "      <td>8</td>\n",
       "    </tr>\n",
       "  </tbody>\n",
       "</table>\n",
       "</div>"
      ],
      "text/plain": [
       "   user_id                      date direction internal  operator_id  \\\n",
       "0   166377 2019-08-04 00:00:00+03:00        in    False          NaN   \n",
       "1   166377 2019-08-05 00:00:00+03:00       out     True     880022.0   \n",
       "2   166377 2019-08-05 00:00:00+03:00       out     True     880020.0   \n",
       "3   166377 2019-08-05 00:00:00+03:00       out     True     880020.0   \n",
       "4   166377 2019-08-05 00:00:00+03:00       out    False     880022.0   \n",
       "\n",
       "   is_missed_call  calls_count  call_duration  total_call_duration  wait_time  \\\n",
       "0            True            2              0                    4          4   \n",
       "1            True            3              0                    5          5   \n",
       "2            True            1              0                    1          1   \n",
       "3           False            1             10                   18          8   \n",
       "4            True            3              0                   25         25   \n",
       "\n",
       "   month  \n",
       "0      8  \n",
       "1      8  \n",
       "2      8  \n",
       "3      8  \n",
       "4      8  "
      ]
     },
     "execution_count": 5,
     "metadata": {},
     "output_type": "execute_result"
    }
   ],
   "source": [
    "# se crea una columna con el tiempo de espera de cada llamada\n",
    "dataset['wait_time'] = dataset['total_call_duration'] - dataset['call_duration']\n",
    "dataset['month'] = dataset['date'].dt.month\n",
    "dataset.head()"
   ]
  },
  {
   "cell_type": "code",
   "execution_count": 6,
   "id": "a8a5af22",
   "metadata": {},
   "outputs": [
    {
     "data": {
      "text/html": [
       "<div>\n",
       "<style scoped>\n",
       "    .dataframe tbody tr th:only-of-type {\n",
       "        vertical-align: middle;\n",
       "    }\n",
       "\n",
       "    .dataframe tbody tr th {\n",
       "        vertical-align: top;\n",
       "    }\n",
       "\n",
       "    .dataframe thead th {\n",
       "        text-align: right;\n",
       "    }\n",
       "</style>\n",
       "<table border=\"1\" class=\"dataframe\">\n",
       "  <thead>\n",
       "    <tr style=\"text-align: right;\">\n",
       "      <th></th>\n",
       "      <th>user_id</th>\n",
       "      <th>date</th>\n",
       "      <th>direction</th>\n",
       "      <th>internal</th>\n",
       "      <th>operator_id</th>\n",
       "      <th>is_missed_call</th>\n",
       "      <th>calls_count</th>\n",
       "      <th>call_duration</th>\n",
       "      <th>total_call_duration</th>\n",
       "      <th>wait_time</th>\n",
       "      <th>month</th>\n",
       "      <th>first_op_call</th>\n",
       "    </tr>\n",
       "  </thead>\n",
       "  <tbody>\n",
       "    <tr>\n",
       "      <th>20364</th>\n",
       "      <td>167002</td>\n",
       "      <td>2019-10-23 00:00:00+03:00</td>\n",
       "      <td>in</td>\n",
       "      <td>False</td>\n",
       "      <td>NaN</td>\n",
       "      <td>True</td>\n",
       "      <td>4</td>\n",
       "      <td>0</td>\n",
       "      <td>1</td>\n",
       "      <td>1</td>\n",
       "      <td>10</td>\n",
       "      <td>NaN</td>\n",
       "    </tr>\n",
       "    <tr>\n",
       "      <th>25265</th>\n",
       "      <td>167125</td>\n",
       "      <td>2019-10-03 00:00:00+03:00</td>\n",
       "      <td>out</td>\n",
       "      <td>False</td>\n",
       "      <td>902742.0</td>\n",
       "      <td>False</td>\n",
       "      <td>24</td>\n",
       "      <td>4529</td>\n",
       "      <td>5029</td>\n",
       "      <td>500</td>\n",
       "      <td>10</td>\n",
       "      <td>9.0</td>\n",
       "    </tr>\n",
       "    <tr>\n",
       "      <th>21394</th>\n",
       "      <td>167031</td>\n",
       "      <td>2019-11-13 00:00:00+03:00</td>\n",
       "      <td>out</td>\n",
       "      <td>False</td>\n",
       "      <td>910520.0</td>\n",
       "      <td>True</td>\n",
       "      <td>1</td>\n",
       "      <td>0</td>\n",
       "      <td>53</td>\n",
       "      <td>53</td>\n",
       "      <td>11</td>\n",
       "      <td>9.0</td>\n",
       "    </tr>\n",
       "    <tr>\n",
       "      <th>35489</th>\n",
       "      <td>167532</td>\n",
       "      <td>2019-10-24 00:00:00+03:00</td>\n",
       "      <td>out</td>\n",
       "      <td>False</td>\n",
       "      <td>917852.0</td>\n",
       "      <td>True</td>\n",
       "      <td>5</td>\n",
       "      <td>0</td>\n",
       "      <td>64</td>\n",
       "      <td>64</td>\n",
       "      <td>10</td>\n",
       "      <td>9.0</td>\n",
       "    </tr>\n",
       "    <tr>\n",
       "      <th>24633</th>\n",
       "      <td>167112</td>\n",
       "      <td>2019-09-30 00:00:00+03:00</td>\n",
       "      <td>out</td>\n",
       "      <td>False</td>\n",
       "      <td>904014.0</td>\n",
       "      <td>True</td>\n",
       "      <td>21</td>\n",
       "      <td>0</td>\n",
       "      <td>237</td>\n",
       "      <td>237</td>\n",
       "      <td>9</td>\n",
       "      <td>9.0</td>\n",
       "    </tr>\n",
       "    <tr>\n",
       "      <th>51750</th>\n",
       "      <td>168336</td>\n",
       "      <td>2019-11-20 00:00:00+03:00</td>\n",
       "      <td>out</td>\n",
       "      <td>False</td>\n",
       "      <td>958418.0</td>\n",
       "      <td>False</td>\n",
       "      <td>12</td>\n",
       "      <td>1584</td>\n",
       "      <td>1685</td>\n",
       "      <td>101</td>\n",
       "      <td>11</td>\n",
       "      <td>11.0</td>\n",
       "    </tr>\n",
       "    <tr>\n",
       "      <th>13201</th>\n",
       "      <td>166782</td>\n",
       "      <td>2019-10-24 00:00:00+03:00</td>\n",
       "      <td>out</td>\n",
       "      <td>False</td>\n",
       "      <td>899250.0</td>\n",
       "      <td>True</td>\n",
       "      <td>2</td>\n",
       "      <td>0</td>\n",
       "      <td>104</td>\n",
       "      <td>104</td>\n",
       "      <td>10</td>\n",
       "      <td>8.0</td>\n",
       "    </tr>\n",
       "    <tr>\n",
       "      <th>375</th>\n",
       "      <td>166377</td>\n",
       "      <td>2019-10-20 00:00:00+03:00</td>\n",
       "      <td>in</td>\n",
       "      <td>False</td>\n",
       "      <td>NaN</td>\n",
       "      <td>True</td>\n",
       "      <td>1</td>\n",
       "      <td>0</td>\n",
       "      <td>66</td>\n",
       "      <td>66</td>\n",
       "      <td>10</td>\n",
       "      <td>NaN</td>\n",
       "    </tr>\n",
       "    <tr>\n",
       "      <th>41749</th>\n",
       "      <td>167888</td>\n",
       "      <td>2019-11-09 00:00:00+03:00</td>\n",
       "      <td>in</td>\n",
       "      <td>False</td>\n",
       "      <td>NaN</td>\n",
       "      <td>True</td>\n",
       "      <td>1</td>\n",
       "      <td>0</td>\n",
       "      <td>30</td>\n",
       "      <td>30</td>\n",
       "      <td>11</td>\n",
       "      <td>NaN</td>\n",
       "    </tr>\n",
       "    <tr>\n",
       "      <th>42726</th>\n",
       "      <td>167976</td>\n",
       "      <td>2019-11-25 00:00:00+03:00</td>\n",
       "      <td>in</td>\n",
       "      <td>False</td>\n",
       "      <td>934428.0</td>\n",
       "      <td>False</td>\n",
       "      <td>1</td>\n",
       "      <td>97</td>\n",
       "      <td>120</td>\n",
       "      <td>23</td>\n",
       "      <td>11</td>\n",
       "      <td>10.0</td>\n",
       "    </tr>\n",
       "  </tbody>\n",
       "</table>\n",
       "</div>"
      ],
      "text/plain": [
       "       user_id                      date direction internal  operator_id  \\\n",
       "20364   167002 2019-10-23 00:00:00+03:00        in    False          NaN   \n",
       "25265   167125 2019-10-03 00:00:00+03:00       out    False     902742.0   \n",
       "21394   167031 2019-11-13 00:00:00+03:00       out    False     910520.0   \n",
       "35489   167532 2019-10-24 00:00:00+03:00       out    False     917852.0   \n",
       "24633   167112 2019-09-30 00:00:00+03:00       out    False     904014.0   \n",
       "51750   168336 2019-11-20 00:00:00+03:00       out    False     958418.0   \n",
       "13201   166782 2019-10-24 00:00:00+03:00       out    False     899250.0   \n",
       "375     166377 2019-10-20 00:00:00+03:00        in    False          NaN   \n",
       "41749   167888 2019-11-09 00:00:00+03:00        in    False          NaN   \n",
       "42726   167976 2019-11-25 00:00:00+03:00        in    False     934428.0   \n",
       "\n",
       "       is_missed_call  calls_count  call_duration  total_call_duration  \\\n",
       "20364            True            4              0                    1   \n",
       "25265           False           24           4529                 5029   \n",
       "21394            True            1              0                   53   \n",
       "35489            True            5              0                   64   \n",
       "24633            True           21              0                  237   \n",
       "51750           False           12           1584                 1685   \n",
       "13201            True            2              0                  104   \n",
       "375              True            1              0                   66   \n",
       "41749            True            1              0                   30   \n",
       "42726           False            1             97                  120   \n",
       "\n",
       "       wait_time  month  first_op_call  \n",
       "20364          1     10            NaN  \n",
       "25265        500     10            9.0  \n",
       "21394         53     11            9.0  \n",
       "35489         64     10            9.0  \n",
       "24633        237      9            9.0  \n",
       "51750        101     11           11.0  \n",
       "13201        104     10            8.0  \n",
       "375           66     10            NaN  \n",
       "41749         30     11            NaN  \n",
       "42726         23     11           10.0  "
      ]
     },
     "execution_count": 6,
     "metadata": {},
     "output_type": "execute_result"
    }
   ],
   "source": [
    "#creo un a columna con la primera llamada que atendio cada cliente\n",
    "dataset['first_op_call'] = dataset.groupby('operator_id')['month'].transform('min')\n",
    "dataset.sample(10)"
   ]
  },
  {
   "cell_type": "markdown",
   "id": "a4f96cc2",
   "metadata": {},
   "source": [
    "Dado que estamos buscando operadores ineficientes las filas donde no falta el operator_id no nos sirve.\n",
    "\n",
    "Los datos de internal son mas los False que los True asi que  los faltantes los remplasare con False"
   ]
  },
  {
   "cell_type": "code",
   "execution_count": 7,
   "id": "80e98833",
   "metadata": {},
   "outputs": [],
   "source": [
    "# se rellena los datos faltantes de la columna 'internal'\n",
    "dataset['internal'] = dataset['internal'].fillna('False')\n",
    "# se eliminan las filas donde falta 'operator_id'\n",
    "dataset = dataset.dropna().reset_index(drop=True)"
   ]
  },
  {
   "cell_type": "code",
   "execution_count": 8,
   "id": "b14b6c51",
   "metadata": {},
   "outputs": [
    {
     "name": "stdout",
     "output_type": "stream",
     "text": [
      "<class 'pandas.core.frame.DataFrame'>\n",
      "RangeIndex: 45730 entries, 0 to 45729\n",
      "Data columns (total 12 columns):\n",
      " #   Column               Non-Null Count  Dtype                    \n",
      "---  ------               --------------  -----                    \n",
      " 0   user_id              45730 non-null  int64                    \n",
      " 1   date                 45730 non-null  datetime64[ns, UTC+03:00]\n",
      " 2   direction            45730 non-null  object                   \n",
      " 3   internal             45730 non-null  object                   \n",
      " 4   operator_id          45730 non-null  float64                  \n",
      " 5   is_missed_call       45730 non-null  bool                     \n",
      " 6   calls_count          45730 non-null  int64                    \n",
      " 7   call_duration        45730 non-null  int64                    \n",
      " 8   total_call_duration  45730 non-null  int64                    \n",
      " 9   wait_time            45730 non-null  int64                    \n",
      " 10  month                45730 non-null  int32                    \n",
      " 11  first_op_call        45730 non-null  float64                  \n",
      "dtypes: bool(1), datetime64[ns, UTC+03:00](1), float64(2), int32(1), int64(5), object(2)\n",
      "memory usage: 3.7+ MB\n"
     ]
    }
   ],
   "source": [
    "dataset.info()"
   ]
  },
  {
   "cell_type": "code",
   "execution_count": 9,
   "id": "71f16c68",
   "metadata": {},
   "outputs": [
    {
     "name": "stdout",
     "output_type": "stream",
     "text": [
      "2019-08-02 00:00:00+03:00\n",
      "2019-11-28 00:00:00+03:00\n"
     ]
    }
   ],
   "source": [
    "print(dataset['date'].min())\n",
    "print(dataset['date'].max())"
   ]
  },
  {
   "cell_type": "markdown",
   "id": "3aa02162",
   "metadata": {},
   "source": [
    "## Llamadas perdidas\n",
    "\n",
    "Filtramos el dataset para las llamadas de entrada.\n",
    "\n",
    "Para las llamadas perdidas vamos a tomar en cuenta solo las llamadas de entrada se agruparan por operador y mes\n"
   ]
  },
  {
   "cell_type": "code",
   "execution_count": 10,
   "id": "5c692ff6",
   "metadata": {},
   "outputs": [
    {
     "data": {
      "text/plain": [
       "{'whiskers': [<matplotlib.lines.Line2D at 0x257857a48c0>,\n",
       "  <matplotlib.lines.Line2D at 0x257857a4bc0>],\n",
       " 'caps': [<matplotlib.lines.Line2D at 0x257857a4ec0>,\n",
       "  <matplotlib.lines.Line2D at 0x257857a51c0>],\n",
       " 'boxes': [<matplotlib.lines.Line2D at 0x257854d22a0>],\n",
       " 'medians': [<matplotlib.lines.Line2D at 0x257857a54c0>],\n",
       " 'fliers': [<matplotlib.lines.Line2D at 0x257857a5790>],\n",
       " 'means': []}"
      ]
     },
     "execution_count": 10,
     "metadata": {},
     "output_type": "execute_result"
    },
    {
     "data": {
      "image/png": "[encoded data removed]",
      "text/plain": [
       "<Figure size 1300x700 with 2 Axes>"
      ]
     },
     "metadata": {},
     "output_type": "display_data"
    }
   ],
   "source": [
    "# filtro solo llamadas de entrada\n",
    "dataset_in = dataset[dataset['direction'] == 'in']\n",
    "#filtro para las llamadas perdidas\n",
    "missed_calls = dataset_in[dataset_in['is_missed_call'] == True]\n",
    "\n",
    "# se agrupa por operador y se cuentas las llamdas perdidas\n",
    "missed_group = missed_calls.groupby(['operator_id', 'month'])['calls_count'].sum().reset_index()  \n",
    "\n",
    "fig, (ax1, ax2) = plt.subplots(1, 2, figsize=(13, 7))\n",
    "\n",
    "ax1.hist(missed_group['calls_count'])\n",
    "ax2.boxplot(missed_group['calls_count'])"
   ]
  },
  {
   "cell_type": "markdown",
   "id": "a709d970",
   "metadata": {},
   "source": [
    "Aquí podemos ver que la gran mayoría de los operadores tiene pocas llamadas perdidas al mes, son los que tiene muchas los que nos interesan.\n",
    "\n",
    "Para calcular lo que se considera atípicamente alto usamos la misma formula que se usa para los diagramas de caja, para lo que necesitamos 2 datos el cuartil 3 (Q3) y el Interval intercuartílico (IQR) que es la distancia entre el cuartil 1 (Q1) y el cuartil 3, y seguimos la siguiente formula : Q3 + (1.5*IQR)"
   ]
  },
  {
   "cell_type": "code",
   "execution_count": 11,
   "id": "b4df5a62",
   "metadata": {},
   "outputs": [
    {
     "data": {
      "text/plain": [
       "np.float64(6.0)"
      ]
     },
     "execution_count": 11,
     "metadata": {},
     "output_type": "execute_result"
    }
   ],
   "source": [
    "#calculamos los cuartiles\n",
    "q1_mc = missed_group['calls_count'].quantile(0.25)\n",
    "q2_mc = missed_group['calls_count'].quantile(0.50)\n",
    "q3_mc = missed_group['calls_count'].quantile(0.75)\n",
    "#calculamos rango intercuartil\n",
    "iqr_mc = q3_mc - q1_mc\n",
    "# largo del bigote superior del diagram de caja\n",
    "atipic_mc = (q3_mc + (1.5 * iqr_mc)).round()\n",
    "#cualquier valor por encima de este se considera atipico \n",
    "atipic_mc"
   ]
  },
  {
   "cell_type": "markdown",
   "id": "77ee5063",
   "metadata": {},
   "source": [
    "El umbral es de 6 llamadas perdidas, enseguida se hace una lista con los que superaron este umbral. 33 operadores superan el umbral."
   ]
  },
  {
   "cell_type": "code",
   "execution_count": 12,
   "id": "cb1c6768",
   "metadata": {},
   "outputs": [
    {
     "data": {
      "text/plain": [
       "0     885876.0\n",
       "1     885890.0\n",
       "2     893804.0\n",
       "3     905104.0\n",
       "4     905862.0\n",
       "5     906392.0\n",
       "6     906412.0\n",
       "7     908960.0\n",
       "8     913938.0\n",
       "9     913942.0\n",
       "10    919166.0\n",
       "11    919204.0\n",
       "12    919206.0\n",
       "13    919554.0\n",
       "14    925922.0\n",
       "15    931458.0\n",
       "16    937860.0\n",
       "17    937956.0\n",
       "18    940588.0\n",
       "19    940622.0\n",
       "20    940624.0\n",
       "21    940630.0\n",
       "22    940652.0\n",
       "23    940658.0\n",
       "24    944216.0\n",
       "25    944218.0\n",
       "26    944220.0\n",
       "27    944222.0\n",
       "28    944226.0\n",
       "29    948286.0\n",
       "30    951508.0\n",
       "31    952948.0\n",
       "32    959312.0\n",
       "Name: operator_id, dtype: float64"
      ]
     },
     "execution_count": 12,
     "metadata": {},
     "output_type": "execute_result"
    }
   ],
   "source": [
    "#operadores con muchas llamadas perdidas\n",
    "op_missed_calls= missed_group[missed_group['calls_count']>atipic_mc]['operator_id'].drop_duplicates().reset_index(drop=True)\n",
    "op_missed_calls"
   ]
  },
  {
   "cell_type": "markdown",
   "id": "c3eb297a",
   "metadata": {},
   "source": [
    "## Tiempo de espera\n",
    "\n",
    "Para esta parte vamos a tomar en cuenta solo las llamadas que si se contestaron.\n",
    "\n",
    "Aquí vamos a calcular el tiempo promedio de espera de cada operador por mes.\n"
   ]
  },
  {
   "cell_type": "code",
   "execution_count": 13,
   "id": "776b4ae5",
   "metadata": {},
   "outputs": [
    {
     "data": {
      "text/html": [
       "<div>\n",
       "<style scoped>\n",
       "    .dataframe tbody tr th:only-of-type {\n",
       "        vertical-align: middle;\n",
       "    }\n",
       "\n",
       "    .dataframe tbody tr th {\n",
       "        vertical-align: top;\n",
       "    }\n",
       "\n",
       "    .dataframe thead th {\n",
       "        text-align: right;\n",
       "    }\n",
       "</style>\n",
       "<table border=\"1\" class=\"dataframe\">\n",
       "  <thead>\n",
       "    <tr style=\"text-align: right;\">\n",
       "      <th></th>\n",
       "      <th>operator_id</th>\n",
       "      <th>month</th>\n",
       "      <th>calls</th>\n",
       "      <th>wait_time</th>\n",
       "      <th>avg_time</th>\n",
       "    </tr>\n",
       "  </thead>\n",
       "  <tbody>\n",
       "    <tr>\n",
       "      <th>0</th>\n",
       "      <td>879896.0</td>\n",
       "      <td>8</td>\n",
       "      <td>15</td>\n",
       "      <td>449</td>\n",
       "      <td>29.933333</td>\n",
       "    </tr>\n",
       "    <tr>\n",
       "      <th>1</th>\n",
       "      <td>879896.0</td>\n",
       "      <td>9</td>\n",
       "      <td>6</td>\n",
       "      <td>129</td>\n",
       "      <td>21.500000</td>\n",
       "    </tr>\n",
       "    <tr>\n",
       "      <th>2</th>\n",
       "      <td>879896.0</td>\n",
       "      <td>10</td>\n",
       "      <td>2</td>\n",
       "      <td>41</td>\n",
       "      <td>20.500000</td>\n",
       "    </tr>\n",
       "    <tr>\n",
       "      <th>3</th>\n",
       "      <td>879898.0</td>\n",
       "      <td>8</td>\n",
       "      <td>11</td>\n",
       "      <td>169</td>\n",
       "      <td>15.363636</td>\n",
       "    </tr>\n",
       "    <tr>\n",
       "      <th>4</th>\n",
       "      <td>879898.0</td>\n",
       "      <td>9</td>\n",
       "      <td>20</td>\n",
       "      <td>549</td>\n",
       "      <td>27.450000</td>\n",
       "    </tr>\n",
       "    <tr>\n",
       "      <th>...</th>\n",
       "      <td>...</td>\n",
       "      <td>...</td>\n",
       "      <td>...</td>\n",
       "      <td>...</td>\n",
       "      <td>...</td>\n",
       "    </tr>\n",
       "    <tr>\n",
       "      <th>1451</th>\n",
       "      <td>971102.0</td>\n",
       "      <td>11</td>\n",
       "      <td>5</td>\n",
       "      <td>1370</td>\n",
       "      <td>274.000000</td>\n",
       "    </tr>\n",
       "    <tr>\n",
       "      <th>1452</th>\n",
       "      <td>971354.0</td>\n",
       "      <td>11</td>\n",
       "      <td>2</td>\n",
       "      <td>84</td>\n",
       "      <td>42.000000</td>\n",
       "    </tr>\n",
       "    <tr>\n",
       "      <th>1453</th>\n",
       "      <td>972412.0</td>\n",
       "      <td>11</td>\n",
       "      <td>1</td>\n",
       "      <td>25</td>\n",
       "      <td>25.000000</td>\n",
       "    </tr>\n",
       "    <tr>\n",
       "      <th>1454</th>\n",
       "      <td>972460.0</td>\n",
       "      <td>11</td>\n",
       "      <td>2</td>\n",
       "      <td>8</td>\n",
       "      <td>4.000000</td>\n",
       "    </tr>\n",
       "    <tr>\n",
       "      <th>1455</th>\n",
       "      <td>973286.0</td>\n",
       "      <td>11</td>\n",
       "      <td>1</td>\n",
       "      <td>88</td>\n",
       "      <td>88.000000</td>\n",
       "    </tr>\n",
       "  </tbody>\n",
       "</table>\n",
       "<p>1456 rows × 5 columns</p>\n",
       "</div>"
      ],
      "text/plain": [
       "      operator_id  month  calls  wait_time    avg_time\n",
       "0        879896.0      8     15        449   29.933333\n",
       "1        879896.0      9      6        129   21.500000\n",
       "2        879896.0     10      2         41   20.500000\n",
       "3        879898.0      8     11        169   15.363636\n",
       "4        879898.0      9     20        549   27.450000\n",
       "...           ...    ...    ...        ...         ...\n",
       "1451     971102.0     11      5       1370  274.000000\n",
       "1452     971354.0     11      2         84   42.000000\n",
       "1453     972412.0     11      1         25   25.000000\n",
       "1454     972460.0     11      2          8    4.000000\n",
       "1455     973286.0     11      1         88   88.000000\n",
       "\n",
       "[1456 rows x 5 columns]"
      ]
     },
     "execution_count": 13,
     "metadata": {},
     "output_type": "execute_result"
    }
   ],
   "source": [
    "# primero eliminamos las filas de llamadas perdidas\n",
    "dataset_te = dataset_in[dataset_in['is_missed_call'] == False]\n",
    "operator_wt = dataset_te.groupby(['operator_id', 'month']).agg(\n",
    "    calls = ('wait_time', 'count'),\n",
    "    wait_time = ('wait_time', 'sum'),\n",
    "    avg_time = ('wait_time', 'mean')\n",
    ").reset_index()\n",
    "operator_wt"
   ]
  },
  {
   "cell_type": "code",
   "execution_count": 14,
   "id": "2abeabe2",
   "metadata": {},
   "outputs": [
    {
     "data": {
      "text/plain": [
       "{'whiskers': [<matplotlib.lines.Line2D at 0x257858a9d60>,\n",
       "  <matplotlib.lines.Line2D at 0x257858aa030>],\n",
       " 'caps': [<matplotlib.lines.Line2D at 0x257858aa300>,\n",
       "  <matplotlib.lines.Line2D at 0x257858aa5d0>],\n",
       " 'boxes': [<matplotlib.lines.Line2D at 0x257858a9af0>],\n",
       " 'medians': [<matplotlib.lines.Line2D at 0x257858aa8d0>],\n",
       " 'fliers': [<matplotlib.lines.Line2D at 0x257858aab70>],\n",
       " 'means': []}"
      ]
     },
     "execution_count": 14,
     "metadata": {},
     "output_type": "execute_result"
    },
    {
     "data": {
      "image/png": "[encoded data removed]",
      "text/plain": [
       "<Figure size 1300x700 with 2 Axes>"
      ]
     },
     "metadata": {},
     "output_type": "display_data"
    }
   ],
   "source": [
    "fig, (ax1, ax2) = plt.subplots(1, 2, figsize=(13, 7))\n",
    "\n",
    "ax1.hist(operator_wt['avg_time'])\n",
    "ax2.boxplot(operator_wt['avg_time'])"
   ]
  },
  {
   "cell_type": "markdown",
   "id": "2f2a92ae",
   "metadata": {},
   "source": [
    "De nuevo podemos ver que la gran mayoría de los operadores si tienen poco tiempo de espera en promedio. \n",
    "Para identificar a los operadores menos eficientes seguimos el mismo proceso que con las llamadas perdidas.\n"
   ]
  },
  {
   "cell_type": "code",
   "execution_count": 15,
   "id": "3e555233",
   "metadata": {},
   "outputs": [
    {
     "data": {
      "text/plain": [
       "np.float64(127.0)"
      ]
     },
     "execution_count": 15,
     "metadata": {},
     "output_type": "execute_result"
    }
   ],
   "source": [
    "# calculamos los cuartiles\n",
    "q1_wt = operator_wt['avg_time'].quantile(0.25)\n",
    "q2_wt = operator_wt['avg_time'].quantile(0.50)\n",
    "q3_wt = operator_wt['avg_time'].quantile(0.75)\n",
    "# calculamos rango intercuartil\n",
    "iqr_wt = q3_wt - q1_wt\n",
    "# largo del bigote superior del diagram de caja\n",
    "atipic_wt = (q3_wt + (1.5 * iqr_wt)).round()\n",
    "# cualquier valor por encima de este se considera atipico\n",
    "atipic_wt"
   ]
  },
  {
   "cell_type": "markdown",
   "id": "037955f4",
   "metadata": {},
   "source": [
    "En este caso el umbral se fija en 127 segundos poco más de 3 minutos en promedio a lo largo de un mes. 91 empleados superaron este umbral en por lo menos una vez."
   ]
  },
  {
   "cell_type": "code",
   "execution_count": 16,
   "id": "7f60d4ab",
   "metadata": {},
   "outputs": [
    {
     "data": {
      "text/plain": [
       "0     882684.0\n",
       "1     882686.0\n",
       "2     882688.0\n",
       "3     882690.0\n",
       "4     885876.0\n",
       "        ...   \n",
       "86    962658.0\n",
       "87    962902.0\n",
       "88    969272.0\n",
       "89    969294.0\n",
       "90    971102.0\n",
       "Name: operator_id, Length: 91, dtype: float64"
      ]
     },
     "execution_count": 16,
     "metadata": {},
     "output_type": "execute_result"
    }
   ],
   "source": [
    "#operadores con largo tiempo de espera\n",
    "op_long_wait_time = operator_wt[operator_wt['avg_time'] > atipic_wt]['operator_id'].drop_duplicates().reset_index(drop=True)\n",
    "op_long_wait_time"
   ]
  },
  {
   "cell_type": "markdown",
   "id": "8498204c",
   "metadata": {},
   "source": [
    "## llamadas salientes\n",
    "\n",
    "Se filtra el data set para para solo llamadas de salida, y tomar en cuenta solo los operadores que se dedican exclusivamente a hacer llamadas de salida."
   ]
  },
  {
   "cell_type": "code",
   "execution_count": 17,
   "id": "fcbf9a19",
   "metadata": {},
   "outputs": [],
   "source": [
    "operator_in = dataset_in['operator_id'].unique()"
   ]
  },
  {
   "cell_type": "code",
   "execution_count": 18,
   "id": "3a1f6254",
   "metadata": {},
   "outputs": [
    {
     "data": {
      "text/html": [
       "<div>\n",
       "<style scoped>\n",
       "    .dataframe tbody tr th:only-of-type {\n",
       "        vertical-align: middle;\n",
       "    }\n",
       "\n",
       "    .dataframe tbody tr th {\n",
       "        vertical-align: top;\n",
       "    }\n",
       "\n",
       "    .dataframe thead th {\n",
       "        text-align: right;\n",
       "    }\n",
       "</style>\n",
       "<table border=\"1\" class=\"dataframe\">\n",
       "  <thead>\n",
       "    <tr style=\"text-align: right;\">\n",
       "      <th></th>\n",
       "      <th>user_id</th>\n",
       "      <th>date</th>\n",
       "      <th>direction</th>\n",
       "      <th>internal</th>\n",
       "      <th>operator_id</th>\n",
       "      <th>is_missed_call</th>\n",
       "      <th>calls_count</th>\n",
       "      <th>call_duration</th>\n",
       "      <th>total_call_duration</th>\n",
       "      <th>wait_time</th>\n",
       "      <th>month</th>\n",
       "      <th>first_op_call</th>\n",
       "    </tr>\n",
       "  </thead>\n",
       "  <tbody>\n",
       "    <tr>\n",
       "      <th>7</th>\n",
       "      <td>166377</td>\n",
       "      <td>2019-08-06 00:00:00+03:00</td>\n",
       "      <td>out</td>\n",
       "      <td>False</td>\n",
       "      <td>881278.0</td>\n",
       "      <td>True</td>\n",
       "      <td>3</td>\n",
       "      <td>0</td>\n",
       "      <td>29</td>\n",
       "      <td>29</td>\n",
       "      <td>8</td>\n",
       "      <td>8.0</td>\n",
       "    </tr>\n",
       "    <tr>\n",
       "      <th>9</th>\n",
       "      <td>166377</td>\n",
       "      <td>2019-08-06 00:00:00+03:00</td>\n",
       "      <td>out</td>\n",
       "      <td>True</td>\n",
       "      <td>881278.0</td>\n",
       "      <td>True</td>\n",
       "      <td>2</td>\n",
       "      <td>0</td>\n",
       "      <td>5</td>\n",
       "      <td>5</td>\n",
       "      <td>8</td>\n",
       "      <td>8.0</td>\n",
       "    </tr>\n",
       "    <tr>\n",
       "      <th>346</th>\n",
       "      <td>166377</td>\n",
       "      <td>2019-10-21 00:00:00+03:00</td>\n",
       "      <td>out</td>\n",
       "      <td>False</td>\n",
       "      <td>881278.0</td>\n",
       "      <td>False</td>\n",
       "      <td>3</td>\n",
       "      <td>465</td>\n",
       "      <td>476</td>\n",
       "      <td>11</td>\n",
       "      <td>10</td>\n",
       "      <td>8.0</td>\n",
       "    </tr>\n",
       "    <tr>\n",
       "      <th>380</th>\n",
       "      <td>166377</td>\n",
       "      <td>2019-10-28 00:00:00+03:00</td>\n",
       "      <td>out</td>\n",
       "      <td>False</td>\n",
       "      <td>881278.0</td>\n",
       "      <td>True</td>\n",
       "      <td>1</td>\n",
       "      <td>0</td>\n",
       "      <td>5</td>\n",
       "      <td>5</td>\n",
       "      <td>10</td>\n",
       "      <td>8.0</td>\n",
       "    </tr>\n",
       "    <tr>\n",
       "      <th>427</th>\n",
       "      <td>166377</td>\n",
       "      <td>2019-11-07 00:00:00+03:00</td>\n",
       "      <td>out</td>\n",
       "      <td>True</td>\n",
       "      <td>881278.0</td>\n",
       "      <td>True</td>\n",
       "      <td>2</td>\n",
       "      <td>0</td>\n",
       "      <td>0</td>\n",
       "      <td>0</td>\n",
       "      <td>11</td>\n",
       "      <td>8.0</td>\n",
       "    </tr>\n",
       "    <tr>\n",
       "      <th>...</th>\n",
       "      <td>...</td>\n",
       "      <td>...</td>\n",
       "      <td>...</td>\n",
       "      <td>...</td>\n",
       "      <td>...</td>\n",
       "      <td>...</td>\n",
       "      <td>...</td>\n",
       "      <td>...</td>\n",
       "      <td>...</td>\n",
       "      <td>...</td>\n",
       "      <td>...</td>\n",
       "      <td>...</td>\n",
       "    </tr>\n",
       "    <tr>\n",
       "      <th>45715</th>\n",
       "      <td>168603</td>\n",
       "      <td>2019-11-20 00:00:00+03:00</td>\n",
       "      <td>out</td>\n",
       "      <td>False</td>\n",
       "      <td>959118.0</td>\n",
       "      <td>False</td>\n",
       "      <td>3</td>\n",
       "      <td>419</td>\n",
       "      <td>478</td>\n",
       "      <td>59</td>\n",
       "      <td>11</td>\n",
       "      <td>11.0</td>\n",
       "    </tr>\n",
       "    <tr>\n",
       "      <th>45716</th>\n",
       "      <td>168603</td>\n",
       "      <td>2019-11-20 00:00:00+03:00</td>\n",
       "      <td>out</td>\n",
       "      <td>False</td>\n",
       "      <td>959118.0</td>\n",
       "      <td>True</td>\n",
       "      <td>3</td>\n",
       "      <td>0</td>\n",
       "      <td>89</td>\n",
       "      <td>89</td>\n",
       "      <td>11</td>\n",
       "      <td>11.0</td>\n",
       "    </tr>\n",
       "    <tr>\n",
       "      <th>45717</th>\n",
       "      <td>168603</td>\n",
       "      <td>2019-11-21 00:00:00+03:00</td>\n",
       "      <td>out</td>\n",
       "      <td>False</td>\n",
       "      <td>959118.0</td>\n",
       "      <td>True</td>\n",
       "      <td>1</td>\n",
       "      <td>0</td>\n",
       "      <td>10</td>\n",
       "      <td>10</td>\n",
       "      <td>11</td>\n",
       "      <td>11.0</td>\n",
       "    </tr>\n",
       "    <tr>\n",
       "      <th>45718</th>\n",
       "      <td>168603</td>\n",
       "      <td>2019-11-21 00:00:00+03:00</td>\n",
       "      <td>out</td>\n",
       "      <td>False</td>\n",
       "      <td>959118.0</td>\n",
       "      <td>False</td>\n",
       "      <td>5</td>\n",
       "      <td>338</td>\n",
       "      <td>423</td>\n",
       "      <td>85</td>\n",
       "      <td>11</td>\n",
       "      <td>11.0</td>\n",
       "    </tr>\n",
       "    <tr>\n",
       "      <th>45719</th>\n",
       "      <td>168603</td>\n",
       "      <td>2019-11-27 00:00:00+03:00</td>\n",
       "      <td>out</td>\n",
       "      <td>False</td>\n",
       "      <td>959118.0</td>\n",
       "      <td>False</td>\n",
       "      <td>1</td>\n",
       "      <td>76</td>\n",
       "      <td>99</td>\n",
       "      <td>23</td>\n",
       "      <td>11</td>\n",
       "      <td>11.0</td>\n",
       "    </tr>\n",
       "  </tbody>\n",
       "</table>\n",
       "<p>8324 rows × 12 columns</p>\n",
       "</div>"
      ],
      "text/plain": [
       "       user_id                      date direction internal  operator_id  \\\n",
       "7       166377 2019-08-06 00:00:00+03:00       out    False     881278.0   \n",
       "9       166377 2019-08-06 00:00:00+03:00       out     True     881278.0   \n",
       "346     166377 2019-10-21 00:00:00+03:00       out    False     881278.0   \n",
       "380     166377 2019-10-28 00:00:00+03:00       out    False     881278.0   \n",
       "427     166377 2019-11-07 00:00:00+03:00       out     True     881278.0   \n",
       "...        ...                       ...       ...      ...          ...   \n",
       "45715   168603 2019-11-20 00:00:00+03:00       out    False     959118.0   \n",
       "45716   168603 2019-11-20 00:00:00+03:00       out    False     959118.0   \n",
       "45717   168603 2019-11-21 00:00:00+03:00       out    False     959118.0   \n",
       "45718   168603 2019-11-21 00:00:00+03:00       out    False     959118.0   \n",
       "45719   168603 2019-11-27 00:00:00+03:00       out    False     959118.0   \n",
       "\n",
       "       is_missed_call  calls_count  call_duration  total_call_duration  \\\n",
       "7                True            3              0                   29   \n",
       "9                True            2              0                    5   \n",
       "346             False            3            465                  476   \n",
       "380              True            1              0                    5   \n",
       "427              True            2              0                    0   \n",
       "...               ...          ...            ...                  ...   \n",
       "45715           False            3            419                  478   \n",
       "45716            True            3              0                   89   \n",
       "45717            True            1              0                   10   \n",
       "45718           False            5            338                  423   \n",
       "45719           False            1             76                   99   \n",
       "\n",
       "       wait_time  month  first_op_call  \n",
       "7             29      8            8.0  \n",
       "9              5      8            8.0  \n",
       "346           11     10            8.0  \n",
       "380            5     10            8.0  \n",
       "427            0     11            8.0  \n",
       "...          ...    ...            ...  \n",
       "45715         59     11           11.0  \n",
       "45716         89     11           11.0  \n",
       "45717         10     11           11.0  \n",
       "45718         85     11           11.0  \n",
       "45719         23     11           11.0  \n",
       "\n",
       "[8324 rows x 12 columns]"
      ]
     },
     "execution_count": 18,
     "metadata": {},
     "output_type": "execute_result"
    }
   ],
   "source": [
    "# filtramos por llamdas de salida, filtramos tambien la llmadas internas y descartamos el ultimo mes \n",
    "dataset_out = dataset[(dataset['direction'] == 'out')]\n",
    "#dejamos los que solo hacen llamdas de salida\n",
    "dataset_out = dataset_out[~dataset_out['operator_id'].isin(operator_in)]\n",
    "dataset_out"
   ]
  },
  {
   "cell_type": "markdown",
   "id": "1602bbcb",
   "metadata": {},
   "source": [
    "Como en esta parte se necesita saber el umbral mas bajo vamos a filtrar a los operadores que tienen poco tiempo trabajando.\n",
    "\n",
    "Después calculamos las llamadas de cada operador por mes.\n"
   ]
  },
  {
   "cell_type": "code",
   "execution_count": 19,
   "id": "6ed5bb68",
   "metadata": {},
   "outputs": [
    {
     "data": {
      "text/html": [
       "<div>\n",
       "<style scoped>\n",
       "    .dataframe tbody tr th:only-of-type {\n",
       "        vertical-align: middle;\n",
       "    }\n",
       "\n",
       "    .dataframe tbody tr th {\n",
       "        vertical-align: top;\n",
       "    }\n",
       "\n",
       "    .dataframe thead th {\n",
       "        text-align: right;\n",
       "    }\n",
       "</style>\n",
       "<table border=\"1\" class=\"dataframe\">\n",
       "  <thead>\n",
       "    <tr style=\"text-align: right;\">\n",
       "      <th></th>\n",
       "      <th>operator_id</th>\n",
       "      <th>month</th>\n",
       "      <th>calls_count</th>\n",
       "    </tr>\n",
       "  </thead>\n",
       "  <tbody>\n",
       "    <tr>\n",
       "      <th>56</th>\n",
       "      <td>891192.0</td>\n",
       "      <td>8</td>\n",
       "      <td>1</td>\n",
       "    </tr>\n",
       "    <tr>\n",
       "      <th>380</th>\n",
       "      <td>941826.0</td>\n",
       "      <td>10</td>\n",
       "      <td>1</td>\n",
       "    </tr>\n",
       "    <tr>\n",
       "      <th>371</th>\n",
       "      <td>940842.0</td>\n",
       "      <td>10</td>\n",
       "      <td>1</td>\n",
       "    </tr>\n",
       "    <tr>\n",
       "      <th>372</th>\n",
       "      <td>940842.0</td>\n",
       "      <td>11</td>\n",
       "      <td>1</td>\n",
       "    </tr>\n",
       "    <tr>\n",
       "      <th>73</th>\n",
       "      <td>893700.0</td>\n",
       "      <td>9</td>\n",
       "      <td>1</td>\n",
       "    </tr>\n",
       "    <tr>\n",
       "      <th>...</th>\n",
       "      <td>...</td>\n",
       "      <td>...</td>\n",
       "      <td>...</td>\n",
       "    </tr>\n",
       "    <tr>\n",
       "      <th>394</th>\n",
       "      <td>945286.0</td>\n",
       "      <td>11</td>\n",
       "      <td>6450</td>\n",
       "    </tr>\n",
       "    <tr>\n",
       "      <th>306</th>\n",
       "      <td>929426.0</td>\n",
       "      <td>11</td>\n",
       "      <td>7205</td>\n",
       "    </tr>\n",
       "    <tr>\n",
       "      <th>307</th>\n",
       "      <td>929428.0</td>\n",
       "      <td>10</td>\n",
       "      <td>9251</td>\n",
       "    </tr>\n",
       "    <tr>\n",
       "      <th>308</th>\n",
       "      <td>929428.0</td>\n",
       "      <td>11</td>\n",
       "      <td>15321</td>\n",
       "    </tr>\n",
       "    <tr>\n",
       "      <th>138</th>\n",
       "      <td>908640.0</td>\n",
       "      <td>10</td>\n",
       "      <td>16571</td>\n",
       "    </tr>\n",
       "  </tbody>\n",
       "</table>\n",
       "<p>448 rows × 3 columns</p>\n",
       "</div>"
      ],
      "text/plain": [
       "     operator_id  month  calls_count\n",
       "56      891192.0      8            1\n",
       "380     941826.0     10            1\n",
       "371     940842.0     10            1\n",
       "372     940842.0     11            1\n",
       "73      893700.0      9            1\n",
       "..           ...    ...          ...\n",
       "394     945286.0     11         6450\n",
       "306     929426.0     11         7205\n",
       "307     929428.0     10         9251\n",
       "308     929428.0     11        15321\n",
       "138     908640.0     10        16571\n",
       "\n",
       "[448 rows x 3 columns]"
      ]
     },
     "execution_count": 19,
     "metadata": {},
     "output_type": "execute_result"
    }
   ],
   "source": [
    "\n",
    "#dado que necesitamor saber si hace pocas llamdas vamos a eliminar de la ecuacion a los operadores mas nuevos\n",
    "dataset_out = dataset_out[dataset_out['first_op_call'] < 11]\n",
    "#agrupoamospor operador, por mes y contamos las llamadas\n",
    "operator_out = dataset_out.groupby(['operator_id', 'month'])['calls_count'].sum().reset_index()\n",
    "operator_out.sort_values('calls_count')"
   ]
  },
  {
   "cell_type": "code",
   "execution_count": 20,
   "id": "c2a26e82",
   "metadata": {},
   "outputs": [
    {
     "data": {
      "text/plain": [
       "{'whiskers': [<matplotlib.lines.Line2D at 0x25785997410>,\n",
       "  <matplotlib.lines.Line2D at 0x257859976b0>],\n",
       " 'caps': [<matplotlib.lines.Line2D at 0x257859979b0>,\n",
       "  <matplotlib.lines.Line2D at 0x25785997c80>],\n",
       " 'boxes': [<matplotlib.lines.Line2D at 0x25785997080>],\n",
       " 'medians': [<matplotlib.lines.Line2D at 0x25785997f50>],\n",
       " 'fliers': [<matplotlib.lines.Line2D at 0x257859d0290>],\n",
       " 'means': []}"
      ]
     },
     "execution_count": 20,
     "metadata": {},
     "output_type": "execute_result"
    },
    {
     "data": {
      "image/png": "[encoded data removed]",
      "text/plain": [
       "<Figure size 1300x700 with 2 Axes>"
      ]
     },
     "metadata": {},
     "output_type": "display_data"
    }
   ],
   "source": [
    "fig, (ax1, ax2) = plt.subplots(1, 2, figsize=(13, 7))\n",
    "\n",
    "ax1.hist(operator_out['calls_count'])\n",
    "ax2.boxplot(operator_out['calls_count'])"
   ]
  },
  {
   "cell_type": "markdown",
   "id": "abdf8112",
   "metadata": {},
   "source": [
    "Aquí la verdad es que la mayor parte de los empleados son muy ineficientes."
   ]
  },
  {
   "cell_type": "code",
   "execution_count": 21,
   "id": "053e2af3",
   "metadata": {},
   "outputs": [
    {
     "name": "stdout",
     "output_type": "stream",
     "text": [
      "-936.0\n"
     ]
    }
   ],
   "source": [
    "# calculamos los cuartiles\n",
    "q1_out = operator_out['calls_count'].quantile(0.25)\n",
    "q2_out = operator_out['calls_count'].quantile(0.50)\n",
    "q3_out = operator_out['calls_count'].quantile(0.75)\n",
    "# calculamos rango intercuartil\n",
    "iqr_out = q3_out - q1_out\n",
    "# largo del bigote superior del diagram de caja\n",
    "atipic_out = (q1_out - (1.5 * iqr_out)).round()\n",
    "# cualquier valor por debajo de este lo consideraremos atipico\n",
    "atipic_out\n",
    "print(atipic_out)"
   ]
  },
  {
   "cell_type": "markdown",
   "id": "cc35aa54",
   "metadata": {},
   "source": [
    "En este caso no hay datos atípicos como tal pues la mayoría hace muy pocas llamadas de salida por lo que usaremos el 10% de los operadores con menos llamadas de salida como umbral más bajo y filtraremos desde ahí."
   ]
  },
  {
   "cell_type": "code",
   "execution_count": 32,
   "id": "74d16a66",
   "metadata": {},
   "outputs": [
    {
     "data": {
      "text/plain": [
       "array([883018., 883898., 890232., 890234., 891162., 891170., 891192.,\n",
       "       891250., 891976., 892800., 893700., 899076., 905480., 905840.,\n",
       "       907998., 910532., 914052., 914338., 914348., 917890., 919128.,\n",
       "       919418., 924370., 928282., 928284., 932246., 936296., 937430.,\n",
       "       937650., 937710., 937720., 937772., 937872., 940788., 940842.,\n",
       "       941816., 941826., 945274., 947480., 947616.])"
      ]
     },
     "execution_count": 32,
     "metadata": {},
     "output_type": "execute_result"
    }
   ],
   "source": [
    "umbral = operator_out['calls_count'].quantile(0.1)\n",
    "\n",
    "#operador con pocas llamadas de salida\n",
    "op_out_calls = operator_out[operator_out['calls_count'] < umbral]['operator_id'].drop_duplicates().reset_index(drop=True)\n",
    "op_out_calls.unique()"
   ]
  },
  {
   "cell_type": "code",
   "execution_count": 23,
   "id": "95ccf59a",
   "metadata": {},
   "outputs": [
    {
     "data": {
      "text/plain": [
       "np.float64(3.0)"
      ]
     },
     "execution_count": 23,
     "metadata": {},
     "output_type": "execute_result"
    }
   ],
   "source": [
    "umbral"
   ]
  },
  {
   "cell_type": "markdown",
   "id": "935c6ecf",
   "metadata": {},
   "source": [
    "# Pruebas e hipotesis"
   ]
  },
  {
   "cell_type": "code",
   "execution_count": 24,
   "id": "f4f4b40c",
   "metadata": {},
   "outputs": [
    {
     "data": {
      "text/plain": [
       "0     885876.0\n",
       "1     885890.0\n",
       "2     893804.0\n",
       "3     905104.0\n",
       "4     905862.0\n",
       "        ...   \n",
       "86    962658.0\n",
       "87    962902.0\n",
       "88    969272.0\n",
       "89    969294.0\n",
       "90    971102.0\n",
       "Name: operator_id, Length: 100, dtype: float64"
      ]
     },
     "execution_count": 24,
     "metadata": {},
     "output_type": "execute_result"
    }
   ],
   "source": [
    "bad_operators = pd.concat([op_missed_calls, op_long_wait_time]).drop_duplicates()\n",
    "bad_operators"
   ]
  },
  {
   "cell_type": "markdown",
   "id": "3edb569d",
   "metadata": {},
   "source": [
    "## Prueba de hipotesis llamas perdidas"
   ]
  },
  {
   "cell_type": "markdown",
   "id": "80a77eea",
   "metadata": {},
   "source": [
    "- H0: las llamadas perdidas del grupo A y B promedio son son iguales\n",
    "- HA: las llamadas perdidas del grupo A y B promedio son diferentes\n",
    "\n",
    "Usaremos un valor de significancia alpha de 0.05"
   ]
  },
  {
   "cell_type": "code",
   "execution_count": 25,
   "id": "4cec5182",
   "metadata": {},
   "outputs": [
    {
     "name": "stdout",
     "output_type": "stream",
     "text": [
      "varianza del grup A (eficientes)\n",
      "1.0266655815972223\n",
      "varianza el grupo B (ineficientes)\n",
      "35.77029310646233\n"
     ]
    }
   ],
   "source": [
    "alpha = 0.05\n",
    "# de divide el dataframe en dos grupos\n",
    "#grupo B (ineficientes)\n",
    "missed_group_B = missed_group[missed_group['operator_id'].isin(bad_operators)]\n",
    "#grupo A (eficientes)\n",
    "missed_group_A = missed_group[~missed_group['operator_id'].isin(bad_operators)]\n",
    "\n",
    "# calculo las varianzas und ato queme servira en la prueba de hipotesis\n",
    "print('varianza del grup A (eficientes)')\n",
    "print(np.var(missed_group_A['calls_count']))\n",
    "print('varianza el grupo B (ineficientes)')\n",
    "print(np.var(missed_group_B['calls_count']))\n"
   ]
  },
  {
   "cell_type": "code",
   "execution_count": 26,
   "id": "677501f3",
   "metadata": {},
   "outputs": [
    {
     "name": "stdout",
     "output_type": "stream",
     "text": [
      "valor de p 2.573523143661938e-11\n",
      "Rechazamos la hipotesis nula, los promedios de llamadas perdidas son significativamente diferentes\n"
     ]
    }
   ],
   "source": [
    "array_mA = np.array(missed_group_A['calls_count'])\n",
    "array_mB = np.array(missed_group_B['calls_count'])\n",
    "\n",
    "results_m = st.ttest_ind(array_mA, array_mB, equal_var=False)\n",
    "print('valor de p', results_m.pvalue)\n",
    "if results_m.pvalue < alpha:\n",
    "    print('Rechazamos la hipotesis nula, los promedios de llamadas perdidas son significativamente diferentes')\n",
    "else:\n",
    "    print('No podemos rechazar la hipotesis nula')"
   ]
  },
  {
   "cell_type": "markdown",
   "id": "0bce12a7",
   "metadata": {},
   "source": [
    "## Prueba de hipotesis de tiempo de espera"
   ]
  },
  {
   "cell_type": "markdown",
   "id": "a61d1d8f",
   "metadata": {},
   "source": [
    "- H0: El tiempo de espera promedio de los grupos A y B son iguales\n",
    "- HA: El tiempo de espera promedio de los grupos A y B son diferentes\n",
    "\n",
    "Usaremos un valor de significancia alpha de 0.05"
   ]
  },
  {
   "cell_type": "code",
   "execution_count": 27,
   "id": "6aa55cd9",
   "metadata": {},
   "outputs": [
    {
     "name": "stdout",
     "output_type": "stream",
     "text": [
      "varianza del grup A (eficientes)\n",
      "614.5258993503643\n",
      "varianza el grupo B (ineficientes)\n",
      "55500.43762708888\n"
     ]
    }
   ],
   "source": [
    "wt_group_A = operator_wt[~operator_wt['operator_id'].isin(bad_operators)]\n",
    "wt_group_B = operator_wt[operator_wt['operator_id'].isin(bad_operators)]\n",
    "wt_group_B\n",
    "#calculo varianza\n",
    "print('varianza del grup A (eficientes)')\n",
    "print(np.var(wt_group_A['avg_time']))\n",
    "print('varianza el grupo B (ineficientes)')\n",
    "print(np.var(wt_group_B['avg_time']))"
   ]
  },
  {
   "cell_type": "code",
   "execution_count": 28,
   "id": "06c0492e",
   "metadata": {},
   "outputs": [
    {
     "name": "stdout",
     "output_type": "stream",
     "text": [
      "valor de p 1.1283303799250234e-27\n",
      "Rechazamos la hipotesis nula, los promedios de tiempos de espera son significativamente diferentes\n"
     ]
    }
   ],
   "source": [
    "array_wtA = np.array(wt_group_A['avg_time'])\n",
    "array_wtB = np.array(wt_group_B['avg_time'])\n",
    "\n",
    "results_wt = st.ttest_ind(array_wtA, array_wtB, equal_var=False)\n",
    "print('valor de p', results_wt.pvalue)\n",
    "if results_wt.pvalue < alpha:\n",
    "    print('Rechazamos la hipotesis nula, los promedios de tiempos de espera son significativamente diferentes')\n",
    "else:\n",
    "    print('No podemos rechazar la hipotesis nula')"
   ]
  },
  {
   "cell_type": "markdown",
   "id": "f3fc2def",
   "metadata": {},
   "source": [
    "## pruebas de hipotesis de llamadas de salida"
   ]
  },
  {
   "cell_type": "code",
   "execution_count": 29,
   "id": "299062a9",
   "metadata": {},
   "outputs": [
    {
     "name": "stdout",
     "output_type": "stream",
     "text": [
      "varianza del grup A (eficientes)\n",
      "2217443.4193628808\n",
      "varianza el grupo B (ineficientes)\n",
      "82007.27162629757\n"
     ]
    }
   ],
   "source": [
    "# divido el dataframe en dos\n",
    "#grupo A (eficientes)\n",
    "calls_out_A = operator_out[~operator_out['operator_id'].isin(op_out_calls)]\n",
    "#grupo B (ineficientes)\n",
    "calls_out_B = operator_out[operator_out['operator_id'].isin(op_out_calls)]\n",
    "\n",
    "#calculamos varianza\n",
    "print('varianza del grup A (eficientes)')\n",
    "print(np.var(calls_out_A['calls_count']))\n",
    "print('varianza el grupo B (ineficientes)')\n",
    "print(np.var(calls_out_B['calls_count']))"
   ]
  },
  {
   "cell_type": "code",
   "execution_count": 30,
   "id": "9a66a2a7",
   "metadata": {},
   "outputs": [
    {
     "name": "stdout",
     "output_type": "stream",
     "text": [
      "valor de p: 5.8488591839293995e-12\n",
      "Rechazamos la hipotesis nula, los promedios de llamadas de salida son significativamente diferentes\n"
     ]
    }
   ],
   "source": [
    "array_out_A = np.array(calls_out_A['calls_count'])\n",
    "array_out_B = np.array(calls_out_B['calls_count'])\n",
    "\n",
    "results_out = st.ttest_ind(array_out_A, array_out_B, equal_var=False)\n",
    "print('valor de p:', results_out.pvalue)\n",
    "if results_wt.pvalue < alpha:\n",
    "    print('Rechazamos la hipotesis nula, los promedios de llamadas de salida son significativamente diferentes')\n",
    "else:\n",
    "    print('No podemos rechazar la hipotesis nula')"
   ]
  },
  {
   "cell_type": "code",
   "execution_count": 35,
   "id": "0fb41b6e",
   "metadata": {},
   "outputs": [
    {
     "data": {
      "text/plain": [
       "array([885876., 885890., 893804., 905104., 905862., 906392., 906412.,\n",
       "       908960., 913938., 913942., 919166., 919204., 919206., 919554.,\n",
       "       925922., 931458., 937860., 937956., 940588., 940622., 940624.,\n",
       "       940630., 940652., 940658., 944216., 944218., 944220., 944222.,\n",
       "       944226., 948286., 951508., 952948., 959312., 882684., 882686.,\n",
       "       882688., 882690., 887276., 890404., 891410., 892534., 895578.,\n",
       "       898920., 899082., 902510., 902532., 905538., 906070., 906076.,\n",
       "       906396., 906400., 906404., 906406., 906408., 906410., 906680.,\n",
       "       908834., 908958., 909134., 911138., 911310., 913788., 916424.,\n",
       "       917680., 917852., 918978., 918986., 919164., 919552., 919790.,\n",
       "       919792., 919794., 921306., 921318., 921818., 923526., 925104.,\n",
       "       937752., 937902., 938414., 938896., 939370., 939376., 939474.,\n",
       "       939706., 939762., 940616., 940634., 940952., 944210., 944228.,\n",
       "       944764., 954650., 954750., 958460., 962658., 962902., 969272.,\n",
       "       969294., 971102.])"
      ]
     },
     "execution_count": 35,
     "metadata": {},
     "output_type": "execute_result"
    }
   ],
   "source": [
    "#unimos las listas de empleados ineficientes\n",
    "ineff_operators = pd.concat([bad_operators, op_out_calls]).drop_duplicates().reset_index(drop=True)\n",
    "operators = dataset['operator_id'].drop_duplicates().reset_index(drop=True)\n",
    "\n",
    "too_bad = bad_operators[bad_operators.isin(op_out_calls)].reset_index(drop=True)\n",
    "\n",
    "bad_operators.unique()\n"
   ]
  },
  {
   "cell_type": "markdown",
   "id": "69bc0156",
   "metadata": {},
   "source": [
    "# Conclusiones\n",
    "después de limpiar los datos, filtrar los usuarios nos quedamos con una lista y hacer pruebas de hipótesis para comprobar hicimos una lista con los empleados los empleados ineficientes.\n",
    "\n",
    "se necesita capacitar mejor a los empleados que hacer llamadas de salida.\n",
    "\n",
    "De los 1096 operadores 140 se pueden considerar ineficientes.\n",
    "\n",
    "De los cuales 100 son por llamadas perdidas y tiempo de espera largos 40   son por pocas llamadas de salida."
   ]
  }
 ],
 "metadata": {
  "kernelspec": {
   "display_name": "Python 3",
   "language": "python",
   "name": "python3"
  },
  "language_info": {
   "codemirror_mode": {
    "name": "ipython",
    "version": 3
   },
   "file_extension": ".py",
   "mimetype": "text/x-python",
   "name": "python",
   "nbconvert_exporter": "python",
   "pygments_lexer": "ipython3",
   "version": "3.12.6"
  }
 },
 "nbformat": 4,
 "nbformat_minor": 5
}
